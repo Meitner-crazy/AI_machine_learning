{
 "cells": [
  {
   "cell_type": "code",
   "execution_count": 5,
   "id": "243de72f-3151-463c-b21b-9dfdc5a71431",
   "metadata": {},
   "outputs": [],
   "source": [
    "import pandas as pd\n",
    "data = pd.read_csv('movie_lens_genre_separated.tsv', sep='\\t')"
   ]
  },
  {
   "cell_type": "code",
   "execution_count": 454,
   "id": "de7f4efd-ba50-482e-8f88-477465ff721a",
   "metadata": {},
   "outputs": [],
   "source": [
    "occupation_dict = { \n",
    "    0: \"not specified\", \n",
    "    1: \"academic/educator\",\n",
    "    2:  \"artist\",\n",
    "    3:  \"clerical/admin\",\n",
    "    4:  \"college/grad student\",\n",
    "    5:  \"customer service\",\n",
    "    6:  \"doctor/health care\",\n",
    "    7:  \"executive/managerial\",\n",
    "    8:  \"farmer\",\n",
    "    9:  \"homemaker\",\n",
    "    10:  \"K-12 student\",\n",
    "    11:  \"lawyer\",\n",
    "    12:  \"programmer\",\n",
    "    13:  \"retired\",\n",
    "    14:  \"sales/marketing\",\n",
    "    15:  \"scientist\",\n",
    "    16:  \"self-employed\",\n",
    "    17:  \"technician/engineer\",\n",
    "    18:  \"tradesman/craftsman\",\n",
    "    19:  \"unemployed\",\n",
    "    20:  \"writer\"\n",
    "}\n",
    "\n",
    "age_dict = {\n",
    "    1:  \"Under 18\",\n",
    "    18:  \"18-24\",\n",
    "    25:  \"25-34\",\n",
    "    35:  \"35-44\",\n",
    "    45:  \"45-49\",\n",
    "    50:  \"50-55\",\n",
    "    56:  \"56+\"\n",
    "}\n",
    "data['age'] = [age_dict[x] for x in data['age']]\n",
    "data['occupation'] = [occupation_dict[x] for x in data['occupation']]"
   ]
  },
  {
   "cell_type": "markdown",
   "id": "432bb760-8a07-4dbc-9c31-806b21ffc70d",
   "metadata": {},
   "source": [
    "### **Question 1: An aggregate (e.g., average) of the movie ratings for each particular genre.**"
   ]
  },
  {
   "cell_type": "code",
   "execution_count": 456,
   "id": "a86aa1bb-46ca-495b-acab-c9728eeae61f",
   "metadata": {},
   "outputs": [],
   "source": [
    "mean_ratings_genre = data.pivot_table('rating', index='genres', aggfunc='mean',fill_value=0)"
   ]
  },
  {
   "cell_type": "markdown",
   "id": "29db3d88-dce2-428a-8488-c6a68533d3f5",
   "metadata": {},
   "source": [
    "print ratings of all genres in ascending order"
   ]
  },
  {
   "cell_type": "code",
   "execution_count": 459,
   "id": "3d10c756-2190-4e94-916b-e720d91428d8",
   "metadata": {},
   "outputs": [
    {
     "data": {
      "text/html": [
       "<div>\n",
       "<style scoped>\n",
       "    .dataframe tbody tr th:only-of-type {\n",
       "        vertical-align: middle;\n",
       "    }\n",
       "\n",
       "    .dataframe tbody tr th {\n",
       "        vertical-align: top;\n",
       "    }\n",
       "\n",
       "    .dataframe thead th {\n",
       "        text-align: right;\n",
       "    }\n",
       "</style>\n",
       "<table border=\"1\" class=\"dataframe\">\n",
       "  <thead>\n",
       "    <tr style=\"text-align: right;\">\n",
       "      <th></th>\n",
       "      <th>rating</th>\n",
       "    </tr>\n",
       "    <tr>\n",
       "      <th>genres</th>\n",
       "      <th></th>\n",
       "    </tr>\n",
       "  </thead>\n",
       "  <tbody>\n",
       "    <tr>\n",
       "      <th>Film-Noir</th>\n",
       "      <td>4.075188</td>\n",
       "    </tr>\n",
       "    <tr>\n",
       "      <th>Documentary</th>\n",
       "      <td>3.933123</td>\n",
       "    </tr>\n",
       "    <tr>\n",
       "      <th>War</th>\n",
       "      <td>3.893327</td>\n",
       "    </tr>\n",
       "    <tr>\n",
       "      <th>Drama</th>\n",
       "      <td>3.766332</td>\n",
       "    </tr>\n",
       "    <tr>\n",
       "      <th>Crime</th>\n",
       "      <td>3.708679</td>\n",
       "    </tr>\n",
       "    <tr>\n",
       "      <th>Animation</th>\n",
       "      <td>3.684895</td>\n",
       "    </tr>\n",
       "    <tr>\n",
       "      <th>Mystery</th>\n",
       "      <td>3.668102</td>\n",
       "    </tr>\n",
       "    <tr>\n",
       "      <th>Musical</th>\n",
       "      <td>3.665519</td>\n",
       "    </tr>\n",
       "    <tr>\n",
       "      <th>Western</th>\n",
       "      <td>3.637770</td>\n",
       "    </tr>\n",
       "    <tr>\n",
       "      <th>Romance</th>\n",
       "      <td>3.607465</td>\n",
       "    </tr>\n",
       "    <tr>\n",
       "      <th>Thriller</th>\n",
       "      <td>3.570466</td>\n",
       "    </tr>\n",
       "    <tr>\n",
       "      <th>Comedy</th>\n",
       "      <td>3.522107</td>\n",
       "    </tr>\n",
       "    <tr>\n",
       "      <th>Action</th>\n",
       "      <td>3.491185</td>\n",
       "    </tr>\n",
       "    <tr>\n",
       "      <th>Adventure</th>\n",
       "      <td>3.477257</td>\n",
       "    </tr>\n",
       "    <tr>\n",
       "      <th>Sci-Fi</th>\n",
       "      <td>3.466521</td>\n",
       "    </tr>\n",
       "    <tr>\n",
       "      <th>Fantasy</th>\n",
       "      <td>3.447371</td>\n",
       "    </tr>\n",
       "    <tr>\n",
       "      <th>Children's</th>\n",
       "      <td>3.422087</td>\n",
       "    </tr>\n",
       "    <tr>\n",
       "      <th>Horror</th>\n",
       "      <td>3.215013</td>\n",
       "    </tr>\n",
       "  </tbody>\n",
       "</table>\n",
       "</div>"
      ],
      "text/plain": [
       "               rating\n",
       "genres               \n",
       "Film-Noir    4.075188\n",
       "Documentary  3.933123\n",
       "War          3.893327\n",
       "Drama        3.766332\n",
       "Crime        3.708679\n",
       "Animation    3.684895\n",
       "Mystery      3.668102\n",
       "Musical      3.665519\n",
       "Western      3.637770\n",
       "Romance      3.607465\n",
       "Thriller     3.570466\n",
       "Comedy       3.522107\n",
       "Action       3.491185\n",
       "Adventure    3.477257\n",
       "Sci-Fi       3.466521\n",
       "Fantasy      3.447371\n",
       "Children's   3.422087\n",
       "Horror       3.215013"
      ]
     },
     "execution_count": 459,
     "metadata": {},
     "output_type": "execute_result"
    }
   ],
   "source": [
    "mean_ratings_genre = mean_ratings_genre.sort_values(by='rating', ascending=False)\n",
    "mean_ratings_genre"
   ]
  },
  {
   "cell_type": "markdown",
   "id": "f9da7665-646c-420a-9c8b-2b050ef45a56",
   "metadata": {},
   "source": [
    "### **Question 2: The top 5 highest ranked genre by occupation.**"
   ]
  },
  {
   "cell_type": "markdown",
   "id": "e119fff8-c7ce-4a3a-9bd3-7c851785ef66",
   "metadata": {},
   "source": [
    "1. group mean ratings of each genre by occupation"
   ]
  },
  {
   "cell_type": "code",
   "execution_count": 461,
   "id": "bf53f68e-97bc-4e2f-ad01-27d75abb08c7",
   "metadata": {},
   "outputs": [],
   "source": [
    "ratings_by_occupation = data.pivot_table('rating', index='occupation', columns='genres', aggfunc='mean', fill_value=0)"
   ]
  },
  {
   "cell_type": "markdown",
   "id": "79184c21-da35-45bb-846b-bd92eb7bfe33",
   "metadata": {},
   "source": [
    "2. get the top 5 highest ranked genres by occupation"
   ]
  },
  {
   "cell_type": "code",
   "execution_count": 463,
   "id": "91e66069-c40b-4924-a467-a68b6ef28352",
   "metadata": {},
   "outputs": [
    {
     "data": {
      "text/plain": [
       "occupation\n",
       "K-12 student                      [Film-Noir, War, Drama, Crime, Mystery]\n",
       "academic/educator           [Film-Noir, Documentary, War, Drama, Musical]\n",
       "artist                      [Film-Noir, Documentary, War, Drama, Mystery]\n",
       "clerical/admin          [Film-Noir, War, Musical, Documentary, Animation]\n",
       "college/grad student          [Film-Noir, Documentary, War, Drama, Crime]\n",
       "customer service          [Film-Noir, Documentary, Animation, War, Drama]\n",
       "doctor/health care            [Documentary, Film-Noir, War, Drama, Crime]\n",
       "executive/managerial          [Film-Noir, Documentary, War, Drama, Crime]\n",
       "farmer                      [Documentary, Film-Noir, War, Western, Drama]\n",
       "homemaker                   [War, Musical, Documentary, Animation, Drama]\n",
       "lawyer                      [Film-Noir, Documentary, War, Drama, Mystery]\n",
       "not specified             [Film-Noir, Documentary, War, Drama, Animation]\n",
       "programmer                  [Film-Noir, War, Documentary, Drama, Western]\n",
       "retired                     [Film-Noir, War, Documentary, Drama, Mystery]\n",
       "sales/marketing           [Film-Noir, Documentary, War, Drama, Animation]\n",
       "scientist                 [Film-Noir, Documentary, War, Animation, Drama]\n",
       "self-employed                 [Film-Noir, Documentary, War, Drama, Crime]\n",
       "technician/engineer       [Film-Noir, Documentary, War, Drama, Animation]\n",
       "tradesman/craftsman           [Film-Noir, War, Western, Animation, Drama]\n",
       "unemployed                    [Film-Noir, Documentary, War, Crime, Drama]\n",
       "writer                  [Film-Noir, Documentary, War, Animation, Musical]\n",
       "dtype: object"
      ]
     },
     "execution_count": 463,
     "metadata": {},
     "output_type": "execute_result"
    }
   ],
   "source": [
    "top_5_genres_by_occupation = ratings_by_occupation.apply(lambda x: x.nlargest(5).index.tolist(), axis=1)\n",
    "top_5_genres_by_occupation"
   ]
  },
  {
   "cell_type": "markdown",
   "id": "4754639b-5fb1-40e6-8be7-9e4b543cf6b5",
   "metadata": {},
   "source": [
    "### **Question 3: The most popular (with most ratings) movie by age group.**"
   ]
  },
  {
   "cell_type": "markdown",
   "id": "bdd72936-a993-4d83-9da1-7c47809da86e",
   "metadata": {},
   "source": [
    "1. count the number of ratings of each movie grouped by age"
   ]
  },
  {
   "cell_type": "code",
   "execution_count": 465,
   "id": "a9fed63f-7372-4292-a566-947aebf389cc",
   "metadata": {},
   "outputs": [],
   "source": [
    "data_by_age = data.pivot_table('rating', index='age', columns='title', aggfunc='count',fill_value=0)"
   ]
  },
  {
   "cell_type": "markdown",
   "id": "c0247f78-9286-4e2c-a4e2-10f6f994f057",
   "metadata": {},
   "source": [
    "2. print the title with most ratings by age group"
   ]
  },
  {
   "cell_type": "code",
   "execution_count": 467,
   "id": "dd81a261-7d47-4372-bfb8-310cc5e3bd8f",
   "metadata": {},
   "outputs": [],
   "source": [
    "most_popular_movies = data_by_age.idxmax(axis=1)"
   ]
  },
  {
   "cell_type": "code",
   "execution_count": 469,
   "id": "8d5b8bc4-dbb9-43af-99eb-d5464e14595f",
   "metadata": {},
   "outputs": [
    {
     "data": {
      "text/plain": [
       "age\n",
       "18-24       Star Wars: Episode VI - Return of the Jedi (1983)\n",
       "25-34       Star Wars: Episode V - The Empire Strikes Back...\n",
       "35-44       Star Wars: Episode V - The Empire Strikes Back...\n",
       "45-49       Star Wars: Episode V - The Empire Strikes Back...\n",
       "50-55       Star Wars: Episode V - The Empire Strikes Back...\n",
       "56+         Star Wars: Episode V - The Empire Strikes Back...\n",
       "Under 18    Star Wars: Episode VI - Return of the Jedi (1983)\n",
       "dtype: object"
      ]
     },
     "execution_count": 469,
     "metadata": {},
     "output_type": "execute_result"
    }
   ],
   "source": [
    "most_popular_movies"
   ]
  },
  {
   "cell_type": "markdown",
   "id": "6cb045c5-1e97-436b-a2a6-9087df533de5",
   "metadata": {},
   "source": [
    "### **Question 4: A breakdown of a movie’s ratings by occupation, using any movie of your choice.**"
   ]
  },
  {
   "cell_type": "markdown",
   "id": "845c110b-af8a-4dda-bf07-3e6f4519ee6a",
   "metadata": {},
   "source": [
    "1. get the mean rating of each movie by occupation"
   ]
  },
  {
   "cell_type": "code",
   "execution_count": 471,
   "id": "25ec912c-e1dc-406b-a1b3-301c356bec31",
   "metadata": {},
   "outputs": [],
   "source": [
    "movie_ratings_by_occupation = data.pivot_table(\n",
    "    values='rating',\n",
    "    index='title',\n",
    "    columns='occupation',\n",
    "    aggfunc=['max', 'min', 'mean'],  #  max and mean\n",
    "    fill_value=0\n",
    ")"
   ]
  },
  {
   "cell_type": "markdown",
   "id": "bb9fd9eb-724f-4e8d-9eab-b9c7a9179cc2",
   "metadata": {},
   "source": [
    "2. chose movie 'Gone with the Wind (1939)', print its mean rating by occupation"
   ]
  },
  {
   "cell_type": "code",
   "execution_count": 473,
   "id": "7448acc1-0dc4-46f8-9c5e-4a3639c52315",
   "metadata": {},
   "outputs": [
    {
     "name": "stdout",
     "output_type": "stream",
     "text": [
      "occupation  K-12 student  academic/educator    artist  clerical/admin  \\\n",
      "max                5.000           5.000000  5.000000             5.0   \n",
      "min                2.000           1.000000  1.000000             1.0   \n",
      "mean               4.125           3.882353  3.866667             4.1   \n",
      "\n",
      "occupation  college/grad student  customer service  doctor/health care  \\\n",
      "max                     5.000000          5.000000            5.000000   \n",
      "min                     1.000000          1.000000            1.000000   \n",
      "mean                    3.864407          4.411765            4.092593   \n",
      "\n",
      "occupation  executive/managerial  farmer  homemaker  ...  not specified  \\\n",
      "max                     5.000000     5.0   5.000000  ...       5.000000   \n",
      "min                     1.000000     3.0   3.000000  ...       1.000000   \n",
      "mean                    4.086207     4.0   4.458333  ...       4.053846   \n",
      "\n",
      "occupation  programmer   retired  sales/marketing  scientist  self-employed  \\\n",
      "max           5.000000  5.000000         5.000000   5.000000       5.000000   \n",
      "min           1.000000  2.000000         1.000000   1.000000       2.000000   \n",
      "mean          3.882353  4.410256         4.175439   3.666667       4.017544   \n",
      "\n",
      "occupation  technician/engineer  tradesman/craftsman  unemployed  writer  \n",
      "max                    5.000000                  5.0      5.0000    5.00  \n",
      "min                    1.000000                  3.0      1.0000    2.00  \n",
      "mean                   3.878378                  4.0      3.9375    3.85  \n",
      "\n",
      "[3 rows x 21 columns]\n"
     ]
    }
   ],
   "source": [
    "result = movie_ratings_by_occupation.loc['Gone with the Wind (1939)'].unstack()\n",
    "print(result)"
   ]
  },
  {
   "cell_type": "markdown",
   "id": "26618a06-5bf6-4c1c-9fbf-ad0cec7719d2",
   "metadata": {},
   "source": [
    " "
   ]
  },
  {
   "cell_type": "markdown",
   "id": "95beb6e7-6ff1-45fd-bd6c-a186087e4dcf",
   "metadata": {},
   "source": [
    "### **Question 5: A function that given a user id, returns:**"
   ]
  },
  {
   "cell_type": "markdown",
   "id": "12852d04-95b7-4c4e-a274-9436672a23ee",
   "metadata": {},
   "source": [
    "**(1) this user’s age and occupation**"
   ]
  },
  {
   "cell_type": "markdown",
   "id": "9bfe5adf-e5ff-4d17-bc34-b543cc6bb194",
   "metadata": {},
   "source": [
    "**(2) the average rating given by this user**"
   ]
  },
  {
   "cell_type": "markdown",
   "id": "04c1b4ac-24e7-47d2-b445-b30724a94ef4",
   "metadata": {},
   "source": [
    "**(3) his highest and lowest rated movie(s)**"
   ]
  },
  {
   "cell_type": "code",
   "execution_count": 475,
   "id": "72dcb149-268b-4b40-93e0-611870e1a4af",
   "metadata": {},
   "outputs": [],
   "source": [
    "def get_user_info(user_id):\n",
    "    user_info = data[data['user_id']==user_id]\n",
    "\n",
    "    if user_info.empty:\n",
    "        return \"User doesn't exist!\"\n",
    "\n",
    "    user_info = user_info.set_index('user_id')\n",
    "    age=user_info['age'].drop_duplicates().values[0]\n",
    "    occupation=user_info['occupation'].drop_duplicates().values[0]\n",
    "    all_ratings=user_info['rating']\n",
    "    average_rating = all_ratings.mean()\n",
    "    max_rating=max(all_ratings)\n",
    "    min_rating=min(all_ratings)\n",
    "\n",
    "    highest_rated_movies = user_info.loc[all_ratings == max_rating]['title'].tolist()\n",
    "    lowest_rated_movies = user_info.loc[all_ratings == min_rating]['title'].tolist()\n",
    "\n",
    "    return (\n",
    "        f\"\\nuser_id: {user_id}\\n\"\n",
    "        f\"age: {age}\\n\"\n",
    "        f\"occupation: {occupation}\\n\\n\"\n",
    "        f\"average_rating: {average_rating}\\n\\n\"\n",
    "        f\"max_rating: {max_rating}\\n\"\n",
    "        f\"highest_rated_movies: {highest_rated_movies}\\n\\n\"\n",
    "        f\"min_rating: {min_rating}\\n\"\n",
    "        f\"lowest_rated_movies: {lowest_rated_movies}\\n\"\n",
    "    )\n",
    "\n"
   ]
  },
  {
   "cell_type": "markdown",
   "id": "5ada3676-4d01-4bd0-b02c-1d5b542655a1",
   "metadata": {},
   "source": [
    "**# input user id here to test results:**"
   ]
  },
  {
   "cell_type": "code",
   "execution_count": 478,
   "id": "3f3e694e-4653-422c-8cb5-dc89460ebb14",
   "metadata": {},
   "outputs": [
    {
     "name": "stdout",
     "output_type": "stream",
     "text": [
      "\n",
      "user_id: 2917\n",
      "age: 25-34\n",
      "occupation: not specified\n",
      "\n",
      "average_rating: 3.423611111111111\n",
      "\n",
      "max_rating: 5\n",
      "highest_rated_movies: ['Fargo (1996)', 'Fargo (1996)', 'Fargo (1996)', 'Raiders of the Lost Ark (1981)', 'Raiders of the Lost Ark (1981)', 'Pulp Fiction (1994)', 'Pulp Fiction (1994)', 'Crumb (1994)', 'North by Northwest (1959)', 'North by Northwest (1959)', 'Hard-Boiled (Lashou shentan) (1992)', 'Hard-Boiled (Lashou shentan) (1992)', 'Rear Window (1954)', 'Rear Window (1954)', 'Citizen Kane (1941)', 'Blade Runner (1982)', 'Blade Runner (1982)', 'Annie Hall (1977)', 'Annie Hall (1977)', 'Vertigo (1958)', 'Vertigo (1958)', 'Killer, The (Die xue shuang xiong) (1989)', 'Killer, The (Die xue shuang xiong) (1989)', 'Strangers on a Train (1951)', 'Strangers on a Train (1951)', 'City Lights (1931)', 'City Lights (1931)', 'City Lights (1931)', 'Raging Bull (1980)', 'Fandango (1985)', 'Paradise Lost: The Child Murders at Robin Hood Hills (1996)']\n",
      "\n",
      "min_rating: 1\n",
      "lowest_rated_movies: ['Arachnophobia (1990)', 'Arachnophobia (1990)', 'Arachnophobia (1990)', 'Arachnophobia (1990)', 'Entrapment (1999)', 'Entrapment (1999)']\n",
      "\n"
     ]
    }
   ],
   "source": [
    "user_id=2917\n",
    "user_info=get_user_info(user_id)\n",
    "print(user_info)"
   ]
  },
  {
   "cell_type": "code",
   "execution_count": null,
   "id": "a287a310-83cc-4a67-a79c-094436c2f8d9",
   "metadata": {},
   "outputs": [],
   "source": []
  },
  {
   "cell_type": "markdown",
   "id": "82114a9c-0801-40e8-a4db-7da80f90b58d",
   "metadata": {},
   "source": [
    "### **Question 6: Some other statistic, chart/visualization, data aggregation, or figure that you created using this dataset, along with a short description of what interesting observations you derived from it.**"
   ]
  },
  {
   "cell_type": "markdown",
   "id": "35542820-1a35-4129-9b21-0762cb4c93e5",
   "metadata": {},
   "source": [
    "### 1. The series of Star Wars are popular, here is the plot presenting the rating differences by gender"
   ]
  },
  {
   "cell_type": "code",
   "execution_count": 480,
   "id": "1a009fd9-b026-4d75-9a83-a3ded8243628",
   "metadata": {},
   "outputs": [],
   "source": [
    "star_war_data = data[data['title'].str.startswith('Star Wars', na=False)]"
   ]
  },
  {
   "cell_type": "code",
   "execution_count": 482,
   "id": "027a10ca-ba49-4392-8d42-f7e927c819e4",
   "metadata": {},
   "outputs": [],
   "source": [
    "star_war_rated_by_gender = star_war_data.pivot_table('rating', index='title', columns='gender', aggfunc='mean')"
   ]
  },
  {
   "cell_type": "code",
   "execution_count": 484,
   "id": "95490021-4c87-46c2-bc96-fa7209cc1937",
   "metadata": {},
   "outputs": [
    {
     "data": {
      "text/html": [
       "<div>\n",
       "<style scoped>\n",
       "    .dataframe tbody tr th:only-of-type {\n",
       "        vertical-align: middle;\n",
       "    }\n",
       "\n",
       "    .dataframe tbody tr th {\n",
       "        vertical-align: top;\n",
       "    }\n",
       "\n",
       "    .dataframe thead th {\n",
       "        text-align: right;\n",
       "    }\n",
       "</style>\n",
       "<table border=\"1\" class=\"dataframe\">\n",
       "  <thead>\n",
       "    <tr style=\"text-align: right;\">\n",
       "      <th>gender</th>\n",
       "      <th>F</th>\n",
       "      <th>M</th>\n",
       "    </tr>\n",
       "    <tr>\n",
       "      <th>title</th>\n",
       "      <th></th>\n",
       "      <th></th>\n",
       "    </tr>\n",
       "  </thead>\n",
       "  <tbody>\n",
       "    <tr>\n",
       "      <th>Star Wars: Episode I - The Phantom Menace (1999)</th>\n",
       "      <td>3.328326</td>\n",
       "      <td>3.431054</td>\n",
       "    </tr>\n",
       "    <tr>\n",
       "      <th>Star Wars: Episode IV - A New Hope (1977)</th>\n",
       "      <td>4.302937</td>\n",
       "      <td>4.495307</td>\n",
       "    </tr>\n",
       "    <tr>\n",
       "      <th>Star Wars: Episode V - The Empire Strikes Back (1980)</th>\n",
       "      <td>4.106481</td>\n",
       "      <td>4.344577</td>\n",
       "    </tr>\n",
       "    <tr>\n",
       "      <th>Star Wars: Episode VI - Return of the Jedi (1983)</th>\n",
       "      <td>3.865237</td>\n",
       "      <td>4.069058</td>\n",
       "    </tr>\n",
       "  </tbody>\n",
       "</table>\n",
       "</div>"
      ],
      "text/plain": [
       "gender                                                     F         M\n",
       "title                                                                 \n",
       "Star Wars: Episode I - The Phantom Menace (1999)    3.328326  3.431054\n",
       "Star Wars: Episode IV - A New Hope (1977)           4.302937  4.495307\n",
       "Star Wars: Episode V - The Empire Strikes Back ...  4.106481  4.344577\n",
       "Star Wars: Episode VI - Return of the Jedi (1983)   3.865237  4.069058"
      ]
     },
     "execution_count": 484,
     "metadata": {},
     "output_type": "execute_result"
    }
   ],
   "source": [
    "star_war_rated_by_gender # chart with mean ratings by gender"
   ]
  },
  {
   "cell_type": "markdown",
   "id": "05c578d0-22aa-475a-85a9-3379260a84e7",
   "metadata": {},
   "source": [
    "----------------------------------------------------------------------"
   ]
  },
  {
   "cell_type": "code",
   "execution_count": 487,
   "id": "ec163e8f-26a4-44df-8d60-7a786705d5cc",
   "metadata": {},
   "outputs": [],
   "source": [
    "star_war_rating_num_by_gender = star_war_data.pivot_table('rating', index='title', columns='gender', aggfunc='count')"
   ]
  },
  {
   "cell_type": "code",
   "execution_count": 489,
   "id": "12a00c77-2b8a-4590-9fe0-46639b4bdb69",
   "metadata": {},
   "outputs": [
    {
     "data": {
      "text/html": [
       "<div>\n",
       "<style scoped>\n",
       "    .dataframe tbody tr th:only-of-type {\n",
       "        vertical-align: middle;\n",
       "    }\n",
       "\n",
       "    .dataframe tbody tr th {\n",
       "        vertical-align: top;\n",
       "    }\n",
       "\n",
       "    .dataframe thead th {\n",
       "        text-align: right;\n",
       "    }\n",
       "</style>\n",
       "<table border=\"1\" class=\"dataframe\">\n",
       "  <thead>\n",
       "    <tr style=\"text-align: right;\">\n",
       "      <th>gender</th>\n",
       "      <th>F</th>\n",
       "      <th>M</th>\n",
       "    </tr>\n",
       "    <tr>\n",
       "      <th>title</th>\n",
       "      <th></th>\n",
       "      <th></th>\n",
       "    </tr>\n",
       "  </thead>\n",
       "  <tbody>\n",
       "    <tr>\n",
       "      <th>Star Wars: Episode I - The Phantom Menace (1999)</th>\n",
       "      <td>1864</td>\n",
       "      <td>7136</td>\n",
       "    </tr>\n",
       "    <tr>\n",
       "      <th>Star Wars: Episode IV - A New Hope (1977)</th>\n",
       "      <td>2588</td>\n",
       "      <td>9376</td>\n",
       "    </tr>\n",
       "    <tr>\n",
       "      <th>Star Wars: Episode V - The Empire Strikes Back (1980)</th>\n",
       "      <td>3240</td>\n",
       "      <td>11710</td>\n",
       "    </tr>\n",
       "    <tr>\n",
       "      <th>Star Wars: Episode VI - Return of the Jedi (1983)</th>\n",
       "      <td>3265</td>\n",
       "      <td>11150</td>\n",
       "    </tr>\n",
       "  </tbody>\n",
       "</table>\n",
       "</div>"
      ],
      "text/plain": [
       "gender                                                 F      M\n",
       "title                                                          \n",
       "Star Wars: Episode I - The Phantom Menace (1999)    1864   7136\n",
       "Star Wars: Episode IV - A New Hope (1977)           2588   9376\n",
       "Star Wars: Episode V - The Empire Strikes Back ...  3240  11710\n",
       "Star Wars: Episode VI - Return of the Jedi (1983)   3265  11150"
      ]
     },
     "execution_count": 489,
     "metadata": {},
     "output_type": "execute_result"
    }
   ],
   "source": [
    "star_war_rating_num_by_gender # the number of ratings by gender "
   ]
  },
  {
   "cell_type": "markdown",
   "id": "2d5b366e-03db-4f8c-ae50-b8ea139bd4ea",
   "metadata": {},
   "source": [
    "*Plots below:*"
   ]
  },
  {
   "cell_type": "code",
   "execution_count": 492,
   "id": "1b40e988-8b1c-4d8e-8424-333be81024f4",
   "metadata": {},
   "outputs": [],
   "source": [
    "import matplotlib.pyplot as plt\n",
    "import matplotlib\n",
    "import numpy as np\n",
    "import seaborn as sns"
   ]
  },
  {
   "cell_type": "code",
   "execution_count": 494,
   "id": "6159c583-1cd1-4c59-9905-a94990fc4520",
   "metadata": {},
   "outputs": [
    {
     "data": {
      "image/png": "[encoded data removed]",
      "text/plain": [
       "<Figure size 1000x500 with 1 Axes>"
      ]
     },
     "metadata": {},
     "output_type": "display_data"
    }
   ],
   "source": [
    "star_war_rated_by_gender.plot(figsize=(10,5), title='Star War Rating by gender', color=[\"red\",\"blue\"]);"
   ]
  },
  {
   "cell_type": "markdown",
   "id": "13740fa0-3728-41dd-bb2b-632caf715abd",
   "metadata": {},
   "source": [
    "-----------------------------------------------------------------------------------------------------------------------"
   ]
  },
  {
   "cell_type": "markdown",
   "id": "85d47116-a958-4991-86c8-a3b0cc5ee699",
   "metadata": {},
   "source": [
    "- **count the number of rating of Star Wars by gender**"
   ]
  },
  {
   "cell_type": "code",
   "execution_count": 498,
   "id": "de7be20d-dbd4-4ba8-a4c3-819942c0c768",
   "metadata": {},
   "outputs": [
    {
     "data": {
      "image/png": "[encoded data removed]",
      "text/plain": [
       "<Figure size 1000x500 with 1 Axes>"
      ]
     },
     "metadata": {},
     "output_type": "display_data"
    }
   ],
   "source": [
    "star_war_rating_num_by_gender.plot(figsize=(10,5), title='Number of ratings of Star War by gender', color=[\"red\",\"blue\"]);"
   ]
  },
  {
   "cell_type": "markdown",
   "id": "92e86fee-e466-4745-9cbd-7fa5920fa7e1",
   "metadata": {},
   "source": [
    "we can see that the males rated more than females regarding Star War series, and they gave higher ratings than females. Maybe males like Sci-fi.\n",
    "\n",
    "Among star wars, Star Wars: Episode IV - A New Hope (1977)\tgot highest rating, Star Wars: Episode V - The Empire Strikes Back (1980) is most popular(with most ratings than others)"
   ]
  },
  {
   "cell_type": "markdown",
   "id": "52704b33-89c4-4792-aa0f-0b7a3967de46",
   "metadata": {},
   "source": [
    "### 2. the percentage of all ratings by age groups"
   ]
  },
  {
   "cell_type": "code",
   "execution_count": 502,
   "id": "80319761-60ce-4a86-a824-025b5df0f23c",
   "metadata": {},
   "outputs": [],
   "source": [
    "df = data.pivot_table('rating', index='age', aggfunc='count')\n",
    "df['percentage'] = (df['rating'] / df['rating'].sum()) * 100"
   ]
  },
  {
   "cell_type": "code",
   "execution_count": 504,
   "id": "8921eddf-3ab8-4275-a3ff-5486078d4907",
   "metadata": {},
   "outputs": [
    {
     "data": {
      "text/plain": [
       "age\n",
       "18-24       18.643049\n",
       "25-34       39.553059\n",
       "35-44       19.865547\n",
       "45-49        8.263074\n",
       "50-55        7.126643\n",
       "56+          3.750134\n",
       "Under 18     2.798494\n",
       "Name: percentage, dtype: float64"
      ]
     },
     "execution_count": 504,
     "metadata": {},
     "output_type": "execute_result"
    }
   ],
   "source": [
    "df['percentage']"
   ]
  },
  {
   "cell_type": "code",
   "execution_count": 506,
   "id": "b09fb04a-bc26-40f3-889d-193fc94a84ff",
   "metadata": {},
   "outputs": [
    {
     "data": {
      "image/png": "[encoded data removed]",
      "text/plain": [
       "<Figure size 640x480 with 1 Axes>"
      ]
     },
     "metadata": {},
     "output_type": "display_data"
    }
   ],
   "source": [
    "plt.pie(df['percentage'].values,\n",
    "        colors=['#45C2E0', '#C1EBDD', '#FFC851','#5A5476','#1869A0','#FF9393','#93ff93'],\n",
    "        labels=df['percentage'].index,\n",
    "        autopct='%.2f%%'\n",
    "       )\n",
    "plt.title(\"Rating Distribution by Age Group\")\n",
    "plt.show()"
   ]
  },
  {
   "cell_type": "markdown",
   "id": "f37307d9-6010-4c87-b29a-048f693ac6ba",
   "metadata": {},
   "source": [
    "From the bar above, we can see audience at age 25 rated most. Young people seemed more passionate about movies."
   ]
  },
  {
   "cell_type": "markdown",
   "id": "3b1c7d3a-13fe-456b-80c4-c66d4abb5089",
   "metadata": {},
   "source": [
    "--------------------------------------------------------end---------------------------------------------------------------"
   ]
  }
 ],
 "metadata": {
  "kernelspec": {
   "display_name": "Python [conda env:base] *",
   "language": "python",
   "name": "conda-base-py"
  },
  "language_info": {
   "codemirror_mode": {
    "name": "ipython",
    "version": 3
   },
   "file_extension": ".py",
   "mimetype": "text/x-python",
   "name": "python",
   "nbconvert_exporter": "python",
   "pygments_lexer": "ipython3",
   "version": "3.11.7"
  }
 },
 "nbformat": 4,
 "nbformat_minor": 5
}
